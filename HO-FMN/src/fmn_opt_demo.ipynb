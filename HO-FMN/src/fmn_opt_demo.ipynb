{
 "cells": [
  {
   "cell_type": "markdown",
   "metadata": {},
   "source": [
    "# Improving Fast Minimum-Norm Attacks with Hyperparameter Optimization"
   ]
  },
  {
   "cell_type": "code",
   "execution_count": 9,
   "metadata": {
    "ExecuteTime": {
     "end_time": "2023-05-12T13:39:18.506040453Z",
     "start_time": "2023-05-12T13:39:18.374434929Z"
    }
   },
   "outputs": [
    {
     "ename": "ValueError",
     "evalue": "mutable default <class 'ray.data._internal.execution.interfaces.ExecutionResources'> for field resource_limits is not allowed: use default_factory",
     "output_type": "error",
     "traceback": [
      "\u001B[0;31m---------------------------------------------------------------------------\u001B[0m",
      "\u001B[0;31mValueError\u001B[0m                                Traceback (most recent call last)",
      "Cell \u001B[0;32mIn[9], line 5\u001B[0m\n\u001B[1;32m      2\u001B[0m \u001B[38;5;28;01mimport\u001B[39;00m \u001B[38;5;21;01mtorch\u001B[39;00m\n\u001B[1;32m      4\u001B[0m \u001B[38;5;28;01mfrom\u001B[39;00m \u001B[38;5;21;01mmodels\u001B[39;00m\u001B[38;5;21;01m.\u001B[39;00m\u001B[38;5;21;01mload_data\u001B[39;00m \u001B[38;5;28;01mimport\u001B[39;00m load_data\n\u001B[0;32m----> 5\u001B[0m \u001B[38;5;28;01mfrom\u001B[39;00m \u001B[38;5;21;01mtuning\u001B[39;00m\u001B[38;5;21;01m.\u001B[39;00m\u001B[38;5;21;01mtune_fmn\u001B[39;00m \u001B[38;5;28;01mimport\u001B[39;00m tune_fmn\n\u001B[1;32m      7\u001B[0m device \u001B[38;5;241m=\u001B[39m torch\u001B[38;5;241m.\u001B[39mdevice(\u001B[38;5;124m'\u001B[39m\u001B[38;5;124mcuda\u001B[39m\u001B[38;5;124m'\u001B[39m) \u001B[38;5;28;01mif\u001B[39;00m torch\u001B[38;5;241m.\u001B[39mcuda\u001B[38;5;241m.\u001B[39mis_available() \u001B[38;5;28;01melse\u001B[39;00m \u001B[38;5;124m'\u001B[39m\u001B[38;5;124mcpu\u001B[39m\u001B[38;5;124m'\u001B[39m\n",
      "File \u001B[0;32m~/PycharmProjects/fmn_attack_opt/HO-FMN/src/tuning/tune_fmn.py:5\u001B[0m\n\u001B[1;32m      3\u001B[0m \u001B[38;5;28;01mimport\u001B[39;00m \u001B[38;5;21;01mtorch\u001B[39;00m\n\u001B[1;32m      4\u001B[0m \u001B[38;5;28;01mimport\u001B[39;00m \u001B[38;5;21;01mray\u001B[39;00m\n\u001B[0;32m----> 5\u001B[0m \u001B[38;5;28;01mfrom\u001B[39;00m \u001B[38;5;21;01mray\u001B[39;00m \u001B[38;5;28;01mimport\u001B[39;00m air\n\u001B[1;32m      6\u001B[0m \u001B[38;5;28;01mfrom\u001B[39;00m \u001B[38;5;21;01mray\u001B[39;00m\u001B[38;5;21;01m.\u001B[39;00m\u001B[38;5;21;01mair\u001B[39;00m \u001B[38;5;28;01mimport\u001B[39;00m session\n\u001B[1;32m      7\u001B[0m \u001B[38;5;28;01mfrom\u001B[39;00m \u001B[38;5;21;01mray\u001B[39;00m \u001B[38;5;28;01mimport\u001B[39;00m tune\n",
      "File \u001B[0;32m~/PycharmProjects/fmn_attack_opt/venv/lib/python3.11/site-packages/ray/air/__init__.py:2\u001B[0m\n\u001B[1;32m      1\u001B[0m \u001B[38;5;28;01mfrom\u001B[39;00m \u001B[38;5;21;01mray\u001B[39;00m\u001B[38;5;21;01m.\u001B[39;00m\u001B[38;5;21;01mair\u001B[39;00m\u001B[38;5;21;01m.\u001B[39;00m\u001B[38;5;21;01mcheckpoint\u001B[39;00m \u001B[38;5;28;01mimport\u001B[39;00m Checkpoint\n\u001B[0;32m----> 2\u001B[0m \u001B[38;5;28;01mfrom\u001B[39;00m \u001B[38;5;21;01mray\u001B[39;00m\u001B[38;5;21;01m.\u001B[39;00m\u001B[38;5;21;01mair\u001B[39;00m\u001B[38;5;21;01m.\u001B[39;00m\u001B[38;5;21;01mconfig\u001B[39;00m \u001B[38;5;28;01mimport\u001B[39;00m (\n\u001B[1;32m      3\u001B[0m     DatasetConfig,\n\u001B[1;32m      4\u001B[0m     RunConfig,\n\u001B[1;32m      5\u001B[0m     ScalingConfig,\n\u001B[1;32m      6\u001B[0m     FailureConfig,\n\u001B[1;32m      7\u001B[0m     CheckpointConfig,\n\u001B[1;32m      8\u001B[0m )\n\u001B[1;32m      9\u001B[0m \u001B[38;5;28;01mfrom\u001B[39;00m \u001B[38;5;21;01mray\u001B[39;00m\u001B[38;5;21;01m.\u001B[39;00m\u001B[38;5;21;01mair\u001B[39;00m\u001B[38;5;21;01m.\u001B[39;00m\u001B[38;5;21;01mdata_batch_type\u001B[39;00m \u001B[38;5;28;01mimport\u001B[39;00m DataBatchType\n\u001B[1;32m     10\u001B[0m \u001B[38;5;28;01mfrom\u001B[39;00m \u001B[38;5;21;01mray\u001B[39;00m\u001B[38;5;21;01m.\u001B[39;00m\u001B[38;5;21;01mair\u001B[39;00m\u001B[38;5;21;01m.\u001B[39;00m\u001B[38;5;21;01mresult\u001B[39;00m \u001B[38;5;28;01mimport\u001B[39;00m Result\n",
      "File \u001B[0;32m~/PycharmProjects/fmn_attack_opt/venv/lib/python3.11/site-packages/ray/air/config.py:18\u001B[0m\n\u001B[1;32m     16\u001B[0m \u001B[38;5;28;01mfrom\u001B[39;00m \u001B[38;5;21;01mray\u001B[39;00m\u001B[38;5;21;01m.\u001B[39;00m\u001B[38;5;21;01mutil\u001B[39;00m\u001B[38;5;21;01m.\u001B[39;00m\u001B[38;5;21;01mannotations\u001B[39;00m \u001B[38;5;28;01mimport\u001B[39;00m PublicAPI\n\u001B[1;32m     17\u001B[0m \u001B[38;5;28;01mfrom\u001B[39;00m \u001B[38;5;21;01mray\u001B[39;00m\u001B[38;5;21;01m.\u001B[39;00m\u001B[38;5;21;01mwidgets\u001B[39;00m \u001B[38;5;28;01mimport\u001B[39;00m Template, make_table_html_repr\n\u001B[0;32m---> 18\u001B[0m \u001B[38;5;28;01mfrom\u001B[39;00m \u001B[38;5;21;01mray\u001B[39;00m\u001B[38;5;21;01m.\u001B[39;00m\u001B[38;5;21;01mdata\u001B[39;00m\u001B[38;5;21;01m.\u001B[39;00m\u001B[38;5;21;01mpreprocessor\u001B[39;00m \u001B[38;5;28;01mimport\u001B[39;00m Preprocessor\n\u001B[1;32m     20\u001B[0m \u001B[38;5;28;01mif\u001B[39;00m TYPE_CHECKING:\n\u001B[1;32m     21\u001B[0m     \u001B[38;5;28;01mfrom\u001B[39;00m \u001B[38;5;21;01mray\u001B[39;00m\u001B[38;5;21;01m.\u001B[39;00m\u001B[38;5;21;01mdata\u001B[39;00m \u001B[38;5;28;01mimport\u001B[39;00m Dataset\n",
      "File \u001B[0;32m~/PycharmProjects/fmn_attack_opt/venv/lib/python3.11/site-packages/ray/data/__init__.py:9\u001B[0m\n\u001B[1;32m      6\u001B[0m \u001B[38;5;28;01mif\u001B[39;00m sys\u001B[38;5;241m.\u001B[39mversion_info \u001B[38;5;241m>\u001B[39m\u001B[38;5;241m=\u001B[39m (\u001B[38;5;241m3\u001B[39m, \u001B[38;5;241m7\u001B[39m):\n\u001B[1;32m      7\u001B[0m     \u001B[38;5;28;01mimport\u001B[39;00m \u001B[38;5;21;01mpandas\u001B[39;00m  \u001B[38;5;66;03m# noqa\u001B[39;00m\n\u001B[0;32m----> 9\u001B[0m \u001B[38;5;28;01mfrom\u001B[39;00m \u001B[38;5;21;01mray\u001B[39;00m\u001B[38;5;21;01m.\u001B[39;00m\u001B[38;5;21;01mdata\u001B[39;00m\u001B[38;5;21;01m.\u001B[39;00m\u001B[38;5;21;01m_internal\u001B[39;00m\u001B[38;5;21;01m.\u001B[39;00m\u001B[38;5;21;01mcompute\u001B[39;00m \u001B[38;5;28;01mimport\u001B[39;00m ActorPoolStrategy\n\u001B[1;32m     10\u001B[0m \u001B[38;5;28;01mfrom\u001B[39;00m \u001B[38;5;21;01mray\u001B[39;00m\u001B[38;5;21;01m.\u001B[39;00m\u001B[38;5;21;01mdata\u001B[39;00m\u001B[38;5;21;01m.\u001B[39;00m\u001B[38;5;21;01m_internal\u001B[39;00m\u001B[38;5;21;01m.\u001B[39;00m\u001B[38;5;21;01mprogress_bar\u001B[39;00m \u001B[38;5;28;01mimport\u001B[39;00m set_progress_bars\n\u001B[1;32m     11\u001B[0m \u001B[38;5;28;01mfrom\u001B[39;00m \u001B[38;5;21;01mray\u001B[39;00m\u001B[38;5;21;01m.\u001B[39;00m\u001B[38;5;21;01mdata\u001B[39;00m\u001B[38;5;21;01m.\u001B[39;00m\u001B[38;5;21;01m_internal\u001B[39;00m\u001B[38;5;21;01m.\u001B[39;00m\u001B[38;5;21;01mexecution\u001B[39;00m\u001B[38;5;21;01m.\u001B[39;00m\u001B[38;5;21;01minterfaces\u001B[39;00m \u001B[38;5;28;01mimport\u001B[39;00m ExecutionOptions, ExecutionResources\n",
      "File \u001B[0;32m~/PycharmProjects/fmn_attack_opt/venv/lib/python3.11/site-packages/ray/data/_internal/compute.py:9\u001B[0m\n\u001B[1;32m      7\u001B[0m \u001B[38;5;28;01mfrom\u001B[39;00m \u001B[38;5;21;01mray\u001B[39;00m\u001B[38;5;21;01m.\u001B[39;00m\u001B[38;5;21;01mdata\u001B[39;00m\u001B[38;5;21;01m.\u001B[39;00m\u001B[38;5;21;01m_internal\u001B[39;00m\u001B[38;5;21;01m.\u001B[39;00m\u001B[38;5;21;01mblock_list\u001B[39;00m \u001B[38;5;28;01mimport\u001B[39;00m BlockList\n\u001B[1;32m      8\u001B[0m \u001B[38;5;28;01mfrom\u001B[39;00m \u001B[38;5;21;01mray\u001B[39;00m\u001B[38;5;21;01m.\u001B[39;00m\u001B[38;5;21;01mdata\u001B[39;00m\u001B[38;5;21;01m.\u001B[39;00m\u001B[38;5;21;01m_internal\u001B[39;00m\u001B[38;5;21;01m.\u001B[39;00m\u001B[38;5;21;01mdelegating_block_builder\u001B[39;00m \u001B[38;5;28;01mimport\u001B[39;00m DelegatingBlockBuilder\n\u001B[0;32m----> 9\u001B[0m \u001B[38;5;28;01mfrom\u001B[39;00m \u001B[38;5;21;01mray\u001B[39;00m\u001B[38;5;21;01m.\u001B[39;00m\u001B[38;5;21;01mdata\u001B[39;00m\u001B[38;5;21;01m.\u001B[39;00m\u001B[38;5;21;01m_internal\u001B[39;00m\u001B[38;5;21;01m.\u001B[39;00m\u001B[38;5;21;01mexecution\u001B[39;00m\u001B[38;5;21;01m.\u001B[39;00m\u001B[38;5;21;01minterfaces\u001B[39;00m \u001B[38;5;28;01mimport\u001B[39;00m TaskContext\n\u001B[1;32m     10\u001B[0m \u001B[38;5;28;01mfrom\u001B[39;00m \u001B[38;5;21;01mray\u001B[39;00m\u001B[38;5;21;01m.\u001B[39;00m\u001B[38;5;21;01mdata\u001B[39;00m\u001B[38;5;21;01m.\u001B[39;00m\u001B[38;5;21;01m_internal\u001B[39;00m\u001B[38;5;21;01m.\u001B[39;00m\u001B[38;5;21;01mprogress_bar\u001B[39;00m \u001B[38;5;28;01mimport\u001B[39;00m ProgressBar\n\u001B[1;32m     11\u001B[0m \u001B[38;5;28;01mfrom\u001B[39;00m \u001B[38;5;21;01mray\u001B[39;00m\u001B[38;5;21;01m.\u001B[39;00m\u001B[38;5;21;01mdata\u001B[39;00m\u001B[38;5;21;01m.\u001B[39;00m\u001B[38;5;21;01m_internal\u001B[39;00m\u001B[38;5;21;01m.\u001B[39;00m\u001B[38;5;21;01mremote_fn\u001B[39;00m \u001B[38;5;28;01mimport\u001B[39;00m cached_remote_fn\n",
      "File \u001B[0;32m~/PycharmProjects/fmn_attack_opt/venv/lib/python3.11/site-packages/ray/data/_internal/execution/interfaces.py:187\u001B[0m\n\u001B[1;32m    177\u001B[0m \u001B[38;5;250m        \u001B[39m\u001B[38;5;124;03m\"\"\"Return copy with all set values scaled by `f`.\"\"\"\u001B[39;00m\n\u001B[1;32m    178\u001B[0m         \u001B[38;5;28;01mreturn\u001B[39;00m ExecutionResources(\n\u001B[1;32m    179\u001B[0m             cpu\u001B[38;5;241m=\u001B[39m\u001B[38;5;28mself\u001B[39m\u001B[38;5;241m.\u001B[39mcpu \u001B[38;5;241m*\u001B[39m f \u001B[38;5;28;01mif\u001B[39;00m \u001B[38;5;28mself\u001B[39m\u001B[38;5;241m.\u001B[39mcpu \u001B[38;5;129;01mis\u001B[39;00m \u001B[38;5;129;01mnot\u001B[39;00m \u001B[38;5;28;01mNone\u001B[39;00m \u001B[38;5;28;01melse\u001B[39;00m \u001B[38;5;28;01mNone\u001B[39;00m,\n\u001B[1;32m    180\u001B[0m             gpu\u001B[38;5;241m=\u001B[39m\u001B[38;5;28mself\u001B[39m\u001B[38;5;241m.\u001B[39mgpu \u001B[38;5;241m*\u001B[39m f \u001B[38;5;28;01mif\u001B[39;00m \u001B[38;5;28mself\u001B[39m\u001B[38;5;241m.\u001B[39mgpu \u001B[38;5;129;01mis\u001B[39;00m \u001B[38;5;129;01mnot\u001B[39;00m \u001B[38;5;28;01mNone\u001B[39;00m \u001B[38;5;28;01melse\u001B[39;00m \u001B[38;5;28;01mNone\u001B[39;00m,\n\u001B[0;32m   (...)\u001B[0m\n\u001B[1;32m    183\u001B[0m             \u001B[38;5;28;01melse\u001B[39;00m \u001B[38;5;28;01mNone\u001B[39;00m,\n\u001B[1;32m    184\u001B[0m         )\n\u001B[0;32m--> 187\u001B[0m \u001B[38;5;129;43m@dataclass\u001B[39;49m\n\u001B[1;32m    188\u001B[0m \u001B[38;5;28;43;01mclass\u001B[39;49;00m\u001B[43m \u001B[49m\u001B[38;5;21;43;01mExecutionOptions\u001B[39;49;00m\u001B[43m:\u001B[49m\n\u001B[1;32m    189\u001B[0m \u001B[38;5;250;43m    \u001B[39;49m\u001B[38;5;124;43;03m\"\"\"Common options for execution.\u001B[39;49;00m\n\u001B[1;32m    190\u001B[0m \n\u001B[1;32m    191\u001B[0m \u001B[38;5;124;43;03m    Some options may not be supported on all executors (e.g., resource limits).\u001B[39;49;00m\n\u001B[0;32m   (...)\u001B[0m\n\u001B[1;32m    207\u001B[0m \u001B[38;5;124;43;03m            option is useful for performance debugging. Off by default.\u001B[39;49;00m\n\u001B[1;32m    208\u001B[0m \u001B[38;5;124;43;03m    \"\"\"\u001B[39;49;00m\n\u001B[1;32m    210\u001B[0m \u001B[43m    \u001B[49m\u001B[38;5;66;43;03m# Set a soft limit on the resource usage during execution. This is not supported\u001B[39;49;00m\n\u001B[1;32m    211\u001B[0m \u001B[43m    \u001B[49m\u001B[38;5;66;43;03m# in bulk execution mode.\u001B[39;49;00m\n",
      "File \u001B[0;32m/usr/lib/python3.11/dataclasses.py:1220\u001B[0m, in \u001B[0;36mdataclass\u001B[0;34m(cls, init, repr, eq, order, unsafe_hash, frozen, match_args, kw_only, slots, weakref_slot)\u001B[0m\n\u001B[1;32m   1217\u001B[0m     \u001B[38;5;28;01mreturn\u001B[39;00m wrap\n\u001B[1;32m   1219\u001B[0m \u001B[38;5;66;03m# We're called as @dataclass without parens.\u001B[39;00m\n\u001B[0;32m-> 1220\u001B[0m \u001B[38;5;28;01mreturn\u001B[39;00m \u001B[43mwrap\u001B[49m\u001B[43m(\u001B[49m\u001B[38;5;28;43mcls\u001B[39;49m\u001B[43m)\u001B[49m\n",
      "File \u001B[0;32m/usr/lib/python3.11/dataclasses.py:1210\u001B[0m, in \u001B[0;36mdataclass.<locals>.wrap\u001B[0;34m(cls)\u001B[0m\n\u001B[1;32m   1209\u001B[0m \u001B[38;5;28;01mdef\u001B[39;00m \u001B[38;5;21mwrap\u001B[39m(\u001B[38;5;28mcls\u001B[39m):\n\u001B[0;32m-> 1210\u001B[0m     \u001B[38;5;28;01mreturn\u001B[39;00m \u001B[43m_process_class\u001B[49m\u001B[43m(\u001B[49m\u001B[38;5;28;43mcls\u001B[39;49m\u001B[43m,\u001B[49m\u001B[43m \u001B[49m\u001B[43minit\u001B[49m\u001B[43m,\u001B[49m\u001B[43m \u001B[49m\u001B[38;5;28;43mrepr\u001B[39;49m\u001B[43m,\u001B[49m\u001B[43m \u001B[49m\u001B[43meq\u001B[49m\u001B[43m,\u001B[49m\u001B[43m \u001B[49m\u001B[43morder\u001B[49m\u001B[43m,\u001B[49m\u001B[43m \u001B[49m\u001B[43munsafe_hash\u001B[49m\u001B[43m,\u001B[49m\n\u001B[1;32m   1211\u001B[0m \u001B[43m                          \u001B[49m\u001B[43mfrozen\u001B[49m\u001B[43m,\u001B[49m\u001B[43m \u001B[49m\u001B[43mmatch_args\u001B[49m\u001B[43m,\u001B[49m\u001B[43m \u001B[49m\u001B[43mkw_only\u001B[49m\u001B[43m,\u001B[49m\u001B[43m \u001B[49m\u001B[43mslots\u001B[49m\u001B[43m,\u001B[49m\n\u001B[1;32m   1212\u001B[0m \u001B[43m                          \u001B[49m\u001B[43mweakref_slot\u001B[49m\u001B[43m)\u001B[49m\n",
      "File \u001B[0;32m/usr/lib/python3.11/dataclasses.py:958\u001B[0m, in \u001B[0;36m_process_class\u001B[0;34m(cls, init, repr, eq, order, unsafe_hash, frozen, match_args, kw_only, slots, weakref_slot)\u001B[0m\n\u001B[1;32m    955\u001B[0m         kw_only \u001B[38;5;241m=\u001B[39m \u001B[38;5;28;01mTrue\u001B[39;00m\n\u001B[1;32m    956\u001B[0m     \u001B[38;5;28;01melse\u001B[39;00m:\n\u001B[1;32m    957\u001B[0m         \u001B[38;5;66;03m# Otherwise it's a field of some type.\u001B[39;00m\n\u001B[0;32m--> 958\u001B[0m         cls_fields\u001B[38;5;241m.\u001B[39mappend(\u001B[43m_get_field\u001B[49m\u001B[43m(\u001B[49m\u001B[38;5;28;43mcls\u001B[39;49m\u001B[43m,\u001B[49m\u001B[43m \u001B[49m\u001B[43mname\u001B[49m\u001B[43m,\u001B[49m\u001B[43m \u001B[49m\u001B[38;5;28;43mtype\u001B[39;49m\u001B[43m,\u001B[49m\u001B[43m \u001B[49m\u001B[43mkw_only\u001B[49m\u001B[43m)\u001B[49m)\n\u001B[1;32m    960\u001B[0m \u001B[38;5;28;01mfor\u001B[39;00m f \u001B[38;5;129;01min\u001B[39;00m cls_fields:\n\u001B[1;32m    961\u001B[0m     fields[f\u001B[38;5;241m.\u001B[39mname] \u001B[38;5;241m=\u001B[39m f\n",
      "File \u001B[0;32m/usr/lib/python3.11/dataclasses.py:815\u001B[0m, in \u001B[0;36m_get_field\u001B[0;34m(cls, a_name, a_type, default_kw_only)\u001B[0m\n\u001B[1;32m    811\u001B[0m \u001B[38;5;66;03m# For real fields, disallow mutable defaults.  Use unhashable as a proxy\u001B[39;00m\n\u001B[1;32m    812\u001B[0m \u001B[38;5;66;03m# indicator for mutability.  Read the __hash__ attribute from the class,\u001B[39;00m\n\u001B[1;32m    813\u001B[0m \u001B[38;5;66;03m# not the instance.\u001B[39;00m\n\u001B[1;32m    814\u001B[0m \u001B[38;5;28;01mif\u001B[39;00m f\u001B[38;5;241m.\u001B[39m_field_type \u001B[38;5;129;01mis\u001B[39;00m _FIELD \u001B[38;5;129;01mand\u001B[39;00m f\u001B[38;5;241m.\u001B[39mdefault\u001B[38;5;241m.\u001B[39m\u001B[38;5;18m__class__\u001B[39m\u001B[38;5;241m.\u001B[39m\u001B[38;5;21m__hash__\u001B[39m \u001B[38;5;129;01mis\u001B[39;00m \u001B[38;5;28;01mNone\u001B[39;00m:\n\u001B[0;32m--> 815\u001B[0m     \u001B[38;5;28;01mraise\u001B[39;00m \u001B[38;5;167;01mValueError\u001B[39;00m(\u001B[38;5;124mf\u001B[39m\u001B[38;5;124m'\u001B[39m\u001B[38;5;124mmutable default \u001B[39m\u001B[38;5;132;01m{\u001B[39;00m\u001B[38;5;28mtype\u001B[39m(f\u001B[38;5;241m.\u001B[39mdefault)\u001B[38;5;132;01m}\u001B[39;00m\u001B[38;5;124m for field \u001B[39m\u001B[38;5;124m'\u001B[39m\n\u001B[1;32m    816\u001B[0m                      \u001B[38;5;124mf\u001B[39m\u001B[38;5;124m'\u001B[39m\u001B[38;5;132;01m{\u001B[39;00mf\u001B[38;5;241m.\u001B[39mname\u001B[38;5;132;01m}\u001B[39;00m\u001B[38;5;124m is not allowed: use default_factory\u001B[39m\u001B[38;5;124m'\u001B[39m)\n\u001B[1;32m    818\u001B[0m \u001B[38;5;28;01mreturn\u001B[39;00m f\n",
      "\u001B[0;31mValueError\u001B[0m: mutable default <class 'ray.data._internal.execution.interfaces.ExecutionResources'> for field resource_limits is not allowed: use default_factory"
     ]
    }
   ],
   "source": [
    "import math\n",
    "import torch\n",
    "\n",
    "from models.load_data import load_data\n",
    "from tuning.tune_fmn import tune_fmn\n",
    "\n",
    "device = torch.device('cuda') if torch.cuda.is_available() else 'cpu'"
   ]
  },
  {
   "cell_type": "code",
   "execution_count": 6,
   "metadata": {
    "ExecuteTime": {
     "end_time": "2023-05-12T08:31:57.466032199Z",
     "start_time": "2023-05-12T08:31:57.423634405Z"
    }
   },
   "outputs": [],
   "source": [
    "MODELS = {\n",
    "    0: 'Wang2023Better_WRN-70-16',\n",
    "    1: 'Wang2023Better_WRN-28-10',\n",
    "    2: 'Gowal2021Improving_70_16_ddpm_100m',\n",
    "    3: 'Rebuffi2021Fixing_106_16_cutmix_ddpm',\n",
    "    4: 'Gowal2021Improving_28_10_ddpm_100m',\n",
    "    5: 'Pang2022Robustness_WRN70_16',\n",
    "    6: 'Sehwag2021Proxy_ResNest152',\n",
    "    7: 'Pang2022Robustness_WRN28_10',\n",
    "    8: 'Gowal2021Improving_R18_ddpm_100m'\n",
    "}\n",
    "\n",
    "OPTIMIZERS = {\n",
    "    0: \"SGD\",\n",
    "    1: \"SGDNesterov\",\n",
    "    2: \"Adam\",\n",
    "    3: \"AdamAmsgrad\"\n",
    "}\n",
    "\n",
    "SCHEDULERS = {\n",
    "    0: \"CosineAnnealingLR\",\n",
    "    1: \"CosineAnnealingWarmRestarts\",\n",
    "    2: \"MultiStepLR\",\n",
    "    3: \"ReduceLROnPlateau\"\n",
    "}\n",
    "\n",
    "LOSSES = {\n",
    "    0: 'LL',    # Logit Loss\n",
    "    1: 'CE'     # Cross Entropy Loss\n",
    "}"
   ]
  },
  {
   "cell_type": "code",
   "execution_count": 7,
   "metadata": {
    "ExecuteTime": {
     "end_time": "2023-05-12T08:32:00.526771297Z",
     "start_time": "2023-05-12T08:31:59.512498910Z"
    }
   },
   "outputs": [
    {
     "name": "stdout",
     "output_type": "stream",
     "text": [
      "Files already downloaded and verified\n"
     ]
    }
   ],
   "source": [
    "model_id = 8\n",
    "batch_size = 50\n",
    "dataset_percent = 0.5\n",
    "\n",
    "# dataset: Cifar10, norm: LInf\n",
    "model, dataset = load_data(model_id)\n",
    "\n",
    "# load a subset of Cifar10 for tuning the attack\n",
    "dataset_frac = list(range(0, math.floor(len(dataset)*dataset_percent)))\n",
    "dataset_frac = torch.utils.data.Subset(dataset, dataset_frac)\n",
    "\n",
    "data_loader = torch.utils.data.DataLoader(dataset_frac,\n",
    "                                          batch_size=batch_size,\n",
    "                                          shuffle=False)"
   ]
  },
  {
   "cell_type": "markdown",
   "metadata": {},
   "source": [
    "## Compute clean accuracy\n",
    "Testing the model with the dataset used for tuning FMN"
   ]
  },
  {
   "cell_type": "code",
   "execution_count": 8,
   "metadata": {
    "ExecuteTime": {
     "end_time": "2023-05-12T08:32:10.615831118Z",
     "start_time": "2023-05-12T08:32:02.923376559Z"
    }
   },
   "outputs": [
    {
     "name": "stdout",
     "output_type": "stream",
     "text": [
      "Model name: Gowal2021Improving_R18_ddpm_100m\n",
      "Clean accuracy: 0.8810\n"
     ]
    }
   ],
   "source": [
    "total, correct = 0.0, 0.0\n",
    "for b, (inputs, labels) in enumerate(data_loader):\n",
    "    inputs, labels = inputs.to(device), labels.to(device)\n",
    "    pred = model(inputs).argmax(1)\n",
    "    total += labels.shape[0]\n",
    "    correct += (pred == labels).sum()\n",
    "    if total >= 1000:\n",
    "        break\n",
    "\n",
    "print(\"Model name: {}\".format(MODELS[model_id]))\n",
    "print(\"Clean accuracy: {:.4f}\".format(correct / total))"
   ]
  },
  {
   "cell_type": "markdown",
   "metadata": {},
   "source": [
    "## Tune FMN HyperParameters"
   ]
  },
  {
   "cell_type": "code",
   "execution_count": 9,
   "metadata": {
    "ExecuteTime": {
     "end_time": "2023-05-12T08:32:18.252219589Z",
     "start_time": "2023-05-12T08:32:18.231500381Z"
    }
   },
   "outputs": [
    {
     "ename": "NameError",
     "evalue": "name 'tune_fmn' is not defined",
     "output_type": "error",
     "traceback": [
      "\u001B[0;31m---------------------------------------------------------------------------\u001B[0m",
      "\u001B[0;31mNameError\u001B[0m                                 Traceback (most recent call last)",
      "Cell \u001B[0;32mIn[9], line 8\u001B[0m\n\u001B[1;32m      5\u001B[0m num_samples \u001B[38;5;241m=\u001B[39m \u001B[38;5;241m2\u001B[39m\n\u001B[1;32m      6\u001B[0m loss \u001B[38;5;241m=\u001B[39m LOSSES[\u001B[38;5;241m0\u001B[39m]            \u001B[38;5;66;03m# LL\u001B[39;00m\n\u001B[0;32m----> 8\u001B[0m fmn_best_config \u001B[38;5;241m=\u001B[39m \u001B[43mtune_fmn\u001B[49m(model\u001B[38;5;241m=\u001B[39mmodel,\n\u001B[1;32m      9\u001B[0m                            data_loader\u001B[38;5;241m=\u001B[39mdata_loader,\n\u001B[1;32m     10\u001B[0m                            optimizer\u001B[38;5;241m=\u001B[39moptimizer,\n\u001B[1;32m     11\u001B[0m                            scheduler\u001B[38;5;241m=\u001B[39mscheduler,\n\u001B[1;32m     12\u001B[0m                            batch\u001B[38;5;241m=\u001B[39mbatch_size,\n\u001B[1;32m     13\u001B[0m                            steps\u001B[38;5;241m=\u001B[39msteps,\n\u001B[1;32m     14\u001B[0m                            epochs\u001B[38;5;241m=\u001B[39mepochs,\n\u001B[1;32m     15\u001B[0m                            num_samples\u001B[38;5;241m=\u001B[39mnum_samples,\n\u001B[1;32m     16\u001B[0m                            loss\u001B[38;5;241m=\u001B[39mloss)\n",
      "\u001B[0;31mNameError\u001B[0m: name 'tune_fmn' is not defined"
     ]
    }
   ],
   "source": [
    "optimizer = OPTIMIZERS[0]   # SGD\n",
    "scheduler = SCHEDULERS[0]   # CosineAnnealingLR\n",
    "steps = 10\n",
    "epochs = 1\n",
    "num_samples = 2\n",
    "loss = LOSSES[0]            # LL\n",
    "\n",
    "fmn_best_config = tune_fmn(model=model,\n",
    "                           data_loader=data_loader,\n",
    "                           optimizer=optimizer,\n",
    "                           scheduler=scheduler,\n",
    "                           batch=batch_size,\n",
    "                           steps=steps,\n",
    "                           epochs=epochs,\n",
    "                           num_samples=num_samples,\n",
    "                           loss=loss)"
   ]
  }
 ],
 "metadata": {
  "kernelspec": {
   "display_name": "Python 3 (ipykernel)",
   "language": "python",
   "name": "python3"
  },
  "language_info": {
   "codemirror_mode": {
    "name": "ipython",
    "version": 3
   },
   "file_extension": ".py",
   "mimetype": "text/x-python",
   "name": "python",
   "nbconvert_exporter": "python",
   "pygments_lexer": "ipython3",
   "version": "3.11.2"
  }
 },
 "nbformat": 4,
 "nbformat_minor": 1
}
